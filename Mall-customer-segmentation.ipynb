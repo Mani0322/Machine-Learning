{
 "cells": [
  {
   "cell_type": "code",
   "execution_count": 35,
   "id": "d86b9860",
   "metadata": {
    "scrolled": true
   },
   "outputs": [
    {
     "data": {
      "text/html": [
       "<div>\n",
       "<style scoped>\n",
       "    .dataframe tbody tr th:only-of-type {\n",
       "        vertical-align: middle;\n",
       "    }\n",
       "\n",
       "    .dataframe tbody tr th {\n",
       "        vertical-align: top;\n",
       "    }\n",
       "\n",
       "    .dataframe thead th {\n",
       "        text-align: right;\n",
       "    }\n",
       "</style>\n",
       "<table border=\"1\" class=\"dataframe\">\n",
       "  <thead>\n",
       "    <tr style=\"text-align: right;\">\n",
       "      <th></th>\n",
       "      <th>CustomerID</th>\n",
       "      <th>Genre</th>\n",
       "      <th>Age</th>\n",
       "      <th>Annual Income (k$)</th>\n",
       "      <th>Spending Score (1-100)</th>\n",
       "    </tr>\n",
       "  </thead>\n",
       "  <tbody>\n",
       "    <tr>\n",
       "      <th>0</th>\n",
       "      <td>1</td>\n",
       "      <td>Male</td>\n",
       "      <td>19</td>\n",
       "      <td>15</td>\n",
       "      <td>39</td>\n",
       "    </tr>\n",
       "    <tr>\n",
       "      <th>1</th>\n",
       "      <td>2</td>\n",
       "      <td>Male</td>\n",
       "      <td>21</td>\n",
       "      <td>15</td>\n",
       "      <td>81</td>\n",
       "    </tr>\n",
       "    <tr>\n",
       "      <th>2</th>\n",
       "      <td>3</td>\n",
       "      <td>Female</td>\n",
       "      <td>20</td>\n",
       "      <td>16</td>\n",
       "      <td>6</td>\n",
       "    </tr>\n",
       "    <tr>\n",
       "      <th>3</th>\n",
       "      <td>4</td>\n",
       "      <td>Female</td>\n",
       "      <td>23</td>\n",
       "      <td>16</td>\n",
       "      <td>77</td>\n",
       "    </tr>\n",
       "    <tr>\n",
       "      <th>4</th>\n",
       "      <td>5</td>\n",
       "      <td>Female</td>\n",
       "      <td>31</td>\n",
       "      <td>17</td>\n",
       "      <td>40</td>\n",
       "    </tr>\n",
       "  </tbody>\n",
       "</table>\n",
       "</div>"
      ],
      "text/plain": [
       "   CustomerID   Genre  Age  Annual Income (k$)  Spending Score (1-100)\n",
       "0           1    Male   19                  15                      39\n",
       "1           2    Male   21                  15                      81\n",
       "2           3  Female   20                  16                       6\n",
       "3           4  Female   23                  16                      77\n",
       "4           5  Female   31                  17                      40"
      ]
     },
     "execution_count": 35,
     "metadata": {},
     "output_type": "execute_result"
    }
   ],
   "source": [
    "import numpy as np\n",
    "import pandas as pd\n",
    "import matplotlib.pyplot as plt\n",
    "import seaborn as sns\n",
    "\n",
    "df = pd.read_csv(\"D:\\my files\\Kaggle Data\\Mall_Customers.csv\")\n",
    "df.head()"
   ]
  },
  {
   "cell_type": "code",
   "execution_count": 48,
   "id": "a48a6903",
   "metadata": {},
   "outputs": [
    {
     "name": "stdout",
     "output_type": "stream",
     "text": [
      "Requirement already satisfied: scipy in c:\\users\\elcot\\anaconda3\\lib\\site-packages (1.6.2)\n",
      "Requirement already satisfied: numpy<1.23.0,>=1.16.5 in c:\\users\\elcot\\anaconda3\\lib\\site-packages (from scipy) (1.19.5)\n"
     ]
    }
   ],
   "source": [
    "! pip install scipy"
   ]
  },
  {
   "cell_type": "code",
   "execution_count": 36,
   "id": "e816bc1f",
   "metadata": {},
   "outputs": [
    {
     "data": {
      "text/plain": [
       "(200, 5)"
      ]
     },
     "execution_count": 36,
     "metadata": {},
     "output_type": "execute_result"
    }
   ],
   "source": [
    "df.shape"
   ]
  },
  {
   "cell_type": "code",
   "execution_count": 37,
   "id": "9bfb308b",
   "metadata": {},
   "outputs": [
    {
     "data": {
      "text/plain": [
       "Index(['CustomerID', 'Genre', 'Age', 'Annual Income (k$)',\n",
       "       'Spending Score (1-100)'],\n",
       "      dtype='object')"
      ]
     },
     "execution_count": 37,
     "metadata": {},
     "output_type": "execute_result"
    }
   ],
   "source": [
    "df.columns"
   ]
  },
  {
   "cell_type": "code",
   "execution_count": 38,
   "id": "f7701389",
   "metadata": {},
   "outputs": [
    {
     "name": "stdout",
     "output_type": "stream",
     "text": [
      "<class 'pandas.core.frame.DataFrame'>\n",
      "RangeIndex: 200 entries, 0 to 199\n",
      "Data columns (total 5 columns):\n",
      " #   Column                  Non-Null Count  Dtype \n",
      "---  ------                  --------------  ----- \n",
      " 0   CustomerID              200 non-null    int64 \n",
      " 1   Genre                   200 non-null    object\n",
      " 2   Age                     200 non-null    int64 \n",
      " 3   Annual Income (k$)      200 non-null    int64 \n",
      " 4   Spending Score (1-100)  200 non-null    int64 \n",
      "dtypes: int64(4), object(1)\n",
      "memory usage: 7.9+ KB\n"
     ]
    }
   ],
   "source": [
    "df.info()"
   ]
  },
  {
   "cell_type": "code",
   "execution_count": 39,
   "id": "5340936c",
   "metadata": {},
   "outputs": [],
   "source": [
    "df.drop(\"CustomerID\",inplace=True,axis=1)"
   ]
  },
  {
   "cell_type": "code",
   "execution_count": 40,
   "id": "7a5a17eb",
   "metadata": {},
   "outputs": [
    {
     "data": {
      "text/html": [
       "<div>\n",
       "<style scoped>\n",
       "    .dataframe tbody tr th:only-of-type {\n",
       "        vertical-align: middle;\n",
       "    }\n",
       "\n",
       "    .dataframe tbody tr th {\n",
       "        vertical-align: top;\n",
       "    }\n",
       "\n",
       "    .dataframe thead th {\n",
       "        text-align: right;\n",
       "    }\n",
       "</style>\n",
       "<table border=\"1\" class=\"dataframe\">\n",
       "  <thead>\n",
       "    <tr style=\"text-align: right;\">\n",
       "      <th></th>\n",
       "      <th>Genre</th>\n",
       "      <th>Age</th>\n",
       "      <th>Annual Income (k$)</th>\n",
       "      <th>Spending Score (1-100)</th>\n",
       "    </tr>\n",
       "  </thead>\n",
       "  <tbody>\n",
       "    <tr>\n",
       "      <th>0</th>\n",
       "      <td>Male</td>\n",
       "      <td>19</td>\n",
       "      <td>15</td>\n",
       "      <td>39</td>\n",
       "    </tr>\n",
       "    <tr>\n",
       "      <th>1</th>\n",
       "      <td>Male</td>\n",
       "      <td>21</td>\n",
       "      <td>15</td>\n",
       "      <td>81</td>\n",
       "    </tr>\n",
       "    <tr>\n",
       "      <th>2</th>\n",
       "      <td>Female</td>\n",
       "      <td>20</td>\n",
       "      <td>16</td>\n",
       "      <td>6</td>\n",
       "    </tr>\n",
       "    <tr>\n",
       "      <th>3</th>\n",
       "      <td>Female</td>\n",
       "      <td>23</td>\n",
       "      <td>16</td>\n",
       "      <td>77</td>\n",
       "    </tr>\n",
       "    <tr>\n",
       "      <th>4</th>\n",
       "      <td>Female</td>\n",
       "      <td>31</td>\n",
       "      <td>17</td>\n",
       "      <td>40</td>\n",
       "    </tr>\n",
       "  </tbody>\n",
       "</table>\n",
       "</div>"
      ],
      "text/plain": [
       "    Genre  Age  Annual Income (k$)  Spending Score (1-100)\n",
       "0    Male   19                  15                      39\n",
       "1    Male   21                  15                      81\n",
       "2  Female   20                  16                       6\n",
       "3  Female   23                  16                      77\n",
       "4  Female   31                  17                      40"
      ]
     },
     "execution_count": 40,
     "metadata": {},
     "output_type": "execute_result"
    }
   ],
   "source": [
    "df.head()"
   ]
  },
  {
   "cell_type": "code",
   "execution_count": 41,
   "id": "0359609e",
   "metadata": {},
   "outputs": [
    {
     "data": {
      "text/plain": [
       "<AxesSubplot:xlabel='Genre', ylabel='count'>"
      ]
     },
     "execution_count": 41,
     "metadata": {},
     "output_type": "execute_result"
    },
    {
     "data": {
      "image/png": "[encoded data removed]",
      "text/plain": [
       "<Figure size 432x288 with 1 Axes>"
      ]
     },
     "metadata": {
      "needs_background": "light"
     },
     "output_type": "display_data"
    }
   ],
   "source": [
    "sns.countplot(x=\"Genre\",data=df)"
   ]
  },
  {
   "cell_type": "code",
   "execution_count": 44,
   "id": "682dc7b2",
   "metadata": {},
   "outputs": [
    {
     "data": {
      "text/html": [
       "<div>\n",
       "<style scoped>\n",
       "    .dataframe tbody tr th:only-of-type {\n",
       "        vertical-align: middle;\n",
       "    }\n",
       "\n",
       "    .dataframe tbody tr th {\n",
       "        vertical-align: top;\n",
       "    }\n",
       "\n",
       "    .dataframe thead th {\n",
       "        text-align: right;\n",
       "    }\n",
       "</style>\n",
       "<table border=\"1\" class=\"dataframe\">\n",
       "  <thead>\n",
       "    <tr style=\"text-align: right;\">\n",
       "      <th></th>\n",
       "      <th>Genre</th>\n",
       "      <th>Age</th>\n",
       "      <th>Annual Income (k$)</th>\n",
       "      <th>Spending Score (1-100)</th>\n",
       "    </tr>\n",
       "  </thead>\n",
       "  <tbody>\n",
       "    <tr>\n",
       "      <th>0</th>\n",
       "      <td>1</td>\n",
       "      <td>19</td>\n",
       "      <td>15</td>\n",
       "      <td>39</td>\n",
       "    </tr>\n",
       "    <tr>\n",
       "      <th>1</th>\n",
       "      <td>1</td>\n",
       "      <td>21</td>\n",
       "      <td>15</td>\n",
       "      <td>81</td>\n",
       "    </tr>\n",
       "    <tr>\n",
       "      <th>2</th>\n",
       "      <td>0</td>\n",
       "      <td>20</td>\n",
       "      <td>16</td>\n",
       "      <td>6</td>\n",
       "    </tr>\n",
       "    <tr>\n",
       "      <th>3</th>\n",
       "      <td>0</td>\n",
       "      <td>23</td>\n",
       "      <td>16</td>\n",
       "      <td>77</td>\n",
       "    </tr>\n",
       "    <tr>\n",
       "      <th>4</th>\n",
       "      <td>0</td>\n",
       "      <td>31</td>\n",
       "      <td>17</td>\n",
       "      <td>40</td>\n",
       "    </tr>\n",
       "  </tbody>\n",
       "</table>\n",
       "</div>"
      ],
      "text/plain": [
       "   Genre  Age  Annual Income (k$)  Spending Score (1-100)\n",
       "0      1   19                  15                      39\n",
       "1      1   21                  15                      81\n",
       "2      0   20                  16                       6\n",
       "3      0   23                  16                      77\n",
       "4      0   31                  17                      40"
      ]
     },
     "execution_count": 44,
     "metadata": {},
     "output_type": "execute_result"
    }
   ],
   "source": [
    "df[\"Genre\"]=df[\"Genre\"].astype(\"category\")\n",
    "df[\"Genre\"]=df[\"Genre\"].cat.codes\n",
    "df.head()"
   ]
  },
  {
   "cell_type": "code",
   "execution_count": 45,
   "id": "d56fd663",
   "metadata": {},
   "outputs": [
    {
     "data": {
      "text/plain": [
       "array([[0.02178034, 0.4138265 , 0.32670513, 0.84943334],\n",
       "       [0.01176226, 0.24700755, 0.17643396, 0.9527434 ],\n",
       "       [0.        , 0.76028592, 0.60822874, 0.22808578],\n",
       "       [0.        , 0.28069661, 0.19526721, 0.93972343],\n",
       "       [0.        , 0.5806832 , 0.31843918, 0.74926865],\n",
       "       [0.        , 0.27185366, 0.21006874, 0.93913083],\n",
       "       [0.        , 0.87913063, 0.45212432, 0.15070811],\n",
       "       [0.        , 0.23366214, 0.18286603, 0.95496702],\n",
       "       [0.01496208, 0.95757323, 0.28427955, 0.04488625],\n",
       "       [0.        , 0.37368855, 0.23666942, 0.89685253],\n",
       "       [0.01407613, 0.94310088, 0.26744652, 0.19706586],\n",
       "       [0.        , 0.3279921 , 0.17805285, 0.92774908],\n",
       "       [0.        , 0.91832409, 0.31666348, 0.23749761],\n",
       "       [0.        , 0.28882142, 0.24068452, 0.92663539],\n",
       "       [0.02270968, 0.84025832, 0.45419368, 0.29522589],\n",
       "       [0.01184615, 0.26061522, 0.23692293, 0.93584556],\n",
       "       [0.        , 0.65094455, 0.39056673, 0.65094455],\n",
       "       [0.01387017, 0.27740345, 0.29127362, 0.91543139],\n",
       "       [0.01566521, 0.81459087, 0.36029981, 0.45429106],\n",
       "       [0.        , 0.32841056, 0.21581265, 0.91954957],\n",
       "       [0.01817581, 0.63615337, 0.43621946, 0.63615337],\n",
       "       [0.012374  , 0.30935003, 0.29697603, 0.9033021 ],\n",
       "       [0.        , 0.87464485, 0.47535046, 0.09507009],\n",
       "       [0.01202465, 0.3727642 , 0.30061629, 0.87779958],\n",
       "       [0.        , 0.8651358 , 0.44858894, 0.22429447],\n",
       "       [0.01094351, 0.31736188, 0.30641837, 0.89736807],\n",
       "       [0.        , 0.72684717, 0.45226046, 0.5168691 ],\n",
       "       [0.01320945, 0.46233081, 0.36986465, 0.80577656],\n",
       "       [0.        , 0.68579267, 0.49719968, 0.53148932],\n",
       "       [0.        , 0.24326709, 0.30672808, 0.92018423],\n",
       "       [0.01487904, 0.89274249, 0.44637124, 0.05951617],\n",
       "       [0.        , 0.25713215, 0.36733164, 0.89384032],\n",
       "       [0.01598211, 0.84705183, 0.52740963, 0.06392844],\n",
       "       [0.01006156, 0.18110815, 0.33203161, 0.92566388],\n",
       "       [0.        , 0.8070834 , 0.54354596, 0.23059526],\n",
       "       [0.        , 0.23346307, 0.36687054, 0.90050042],\n",
       "       [0.        , 0.74142023, 0.60019733, 0.30009866],\n",
       "       [0.        , 0.34909691, 0.39564316, 0.84946915],\n",
       "       [0.        , 0.62282246, 0.64012308, 0.44981622],\n",
       "       [0.        , 0.23258959, 0.43029074, 0.87221096],\n",
       "       [0.        , 0.78284849, 0.45766527, 0.4215338 ],\n",
       "       [0.00976598, 0.23438349, 0.3711072 , 0.89847006],\n",
       "       [0.0139727 , 0.67068941, 0.54493515, 0.50301706],\n",
       "       [0.        , 0.39360518, 0.49518071, 0.77451342],\n",
       "       [0.        , 0.71428268, 0.5685107 , 0.40816153],\n",
       "       [0.        , 0.30184501, 0.49049814, 0.81749689],\n",
       "       [0.        , 0.59234888, 0.4738791 , 0.65158377],\n",
       "       [0.        , 0.40080351, 0.59378298, 0.697695  ],\n",
       "       [0.        , 0.4472136 , 0.61684634, 0.64768866],\n",
       "       [0.        , 0.47137727, 0.60822874, 0.63864017],\n",
       "       [0.        , 0.59122028, 0.50676024, 0.62741744],\n",
       "       [0.0124476 , 0.4107707 , 0.52279907, 0.74685582],\n",
       "       [0.        , 0.40967175, 0.56825437, 0.71362177],\n",
       "       [0.01058157, 0.62431241, 0.45500735, 0.63489397],\n",
       "       [0.        , 0.62627341, 0.53859513, 0.56364607],\n",
       "       [0.01319909, 0.62035732, 0.56756095, 0.54116277],\n",
       "       [0.        , 0.60796195, 0.52451619, 0.59604113],\n",
       "       [0.01065157, 0.73495808, 0.46866892, 0.48997205],\n",
       "       [0.        , 0.36586844, 0.62333141, 0.69108483],\n",
       "       [0.01191659, 0.63157926, 0.54816313, 0.54816313],\n",
       "       [0.00992437, 0.69470568, 0.45652087, 0.55576454],\n",
       "       [0.01348032, 0.2561261 , 0.62009478, 0.74141767],\n",
       "       [0.        , 0.69097873, 0.48471642, 0.536282  ],\n",
       "       [0.        , 0.58209395, 0.50663733, 0.63599154],\n",
       "       [0.0106149 , 0.66873856, 0.5095151 , 0.54135979],\n",
       "       [0.01279321, 0.23027771, 0.61407389, 0.75479916],\n",
       "       [0.        , 0.52718093, 0.58848104, 0.61300108],\n",
       "       [0.        , 0.70771926, 0.49956654, 0.49956654],\n",
       "       [0.01275465, 0.24233827, 0.61222299, 0.75252409],\n",
       "       [0.        , 0.43004383, 0.64506574, 0.63162687],\n",
       "       [0.0098404 , 0.68882825, 0.48217978, 0.5412222 ],\n",
       "       [0.        , 0.58869701, 0.61374794, 0.52606967],\n",
       "       [0.        , 0.65075309, 0.54229425, 0.53144836],\n",
       "       [0.        , 0.62432293, 0.52026911, 0.5827014 ],\n",
       "       [0.01077889, 0.6359546 , 0.58206014, 0.5066079 ],\n",
       "       [0.0123949 , 0.32226728, 0.66932435, 0.66932435],\n",
       "       [0.        , 0.51116565, 0.61339878, 0.60203954],\n",
       "       [0.0121081 , 0.48432397, 0.65383736, 0.58118877],\n",
       "       [0.        , 0.29330914, 0.68863884, 0.6631337 ],\n",
       "       [0.        , 0.58230267, 0.64172131, 0.49911658],\n",
       "       [0.01068008, 0.60876455, 0.57672431, 0.54468407],\n",
       "       [0.01163578, 0.44215948, 0.6283319 , 0.63996767],\n",
       "       [0.01049034, 0.70285306, 0.56647858, 0.43010411],\n",
       "       [0.        , 0.55106618, 0.64690378, 0.52710678],\n",
       "       [0.        , 0.25837471, 0.66439212, 0.7013028 ],\n",
       "       [0.01167457, 0.56037916, 0.63042656, 0.53703003],\n",
       "       [0.        , 0.5602337 , 0.58060583, 0.5907919 ],\n",
       "       [0.        , 0.26761693, 0.69337114, 0.66904233],\n",
       "       [0.        , 0.37731225, 0.6436503 , 0.66584514],\n",
       "       [0.        , 0.55971708, 0.64927181, 0.51493971],\n",
       "       [0.        , 0.644557  , 0.55924799, 0.52133287],\n",
       "       [0.01349996, 0.2429993 , 0.79649771, 0.55349841],\n",
       "       [0.01097246, 0.52667812, 0.65834765, 0.53765058],\n",
       "       [0.        , 0.48507125, 0.72760688, 0.48507125],\n",
       "       [0.        , 0.40037553, 0.75070412, 0.52549288],\n",
       "       [0.01205519, 0.28932467, 0.72331167, 0.62687011],\n",
       "       [0.        , 0.52488581, 0.67006699, 0.52488581],\n",
       "       [0.        , 0.32672714, 0.72606031, 0.60505025],\n",
       "       [0.01133004, 0.5438417 , 0.69113217, 0.47586149],\n",
       "       [0.01238159, 0.24763174, 0.7552768 , 0.60669776],\n",
       "       [0.        , 0.2956015 , 0.79683882, 0.5269418 ],\n",
       "       [0.        , 0.5299543 , 0.67055442, 0.51913891],\n",
       "       [0.0091999 , 0.61639334, 0.57039384, 0.54279414],\n",
       "       [0.01151176, 0.29930567, 0.71372891, 0.63314661],\n",
       "       [0.0103241 , 0.505881  , 0.64009432, 0.57814971],\n",
       "       [0.        , 0.27000854, 0.79716807, 0.54001708],\n",
       "       [0.        , 0.63435152, 0.60551736, 0.48056933],\n",
       "       [0.01053975, 0.56914674, 0.66400453, 0.48482871],\n",
       "       [0.0097856 , 0.66542065, 0.61649266, 0.4207807 ],\n",
       "       [0.00969914, 0.64014345, 0.61104602, 0.46555887],\n",
       "       [0.0095787 , 0.62261565, 0.60345824, 0.49809252],\n",
       "       [0.        , 0.22320527, 0.74010167, 0.63437286],\n",
       "       [0.        , 0.44463456, 0.7488582 , 0.4914382 ],\n",
       "       [0.01233347, 0.23433586, 0.78934184, 0.56733945],\n",
       "       [0.        , 0.21743635, 0.7851868 , 0.57983025],\n",
       "       [0.        , 0.22571116, 0.77216975, 0.59397673],\n",
       "       [0.        , 0.62864985, 0.64860699, 0.42907847],\n",
       "       [0.        , 0.48739935, 0.64655016, 0.58686861],\n",
       "       [0.        , 0.53941834, 0.70864762, 0.4548037 ],\n",
       "       [0.        , 0.49415414, 0.66216655, 0.56333572],\n",
       "       [0.01094024, 0.29538643, 0.73299595, 0.61265333],\n",
       "       [0.        , 0.43782405, 0.77195293, 0.46086742],\n",
       "       [0.        , 0.4056161 , 0.69968777, 0.58814335],\n",
       "       [0.00828628, 0.32316497, 0.5717534 , 0.75405159],\n",
       "       [0.        , 0.29046517, 0.88402444, 0.36623869],\n",
       "       [0.        , 0.28549913, 0.64467546, 0.709143  ],\n",
       "       [0.01110015, 0.4773066 , 0.78811089, 0.38850537],\n",
       "       [0.00798927, 0.31957079, 0.56723814, 0.75898061],\n",
       "       [0.0107558 , 0.63459206, 0.76366163, 0.11831377],\n",
       "       [0.00908678, 0.34529763, 0.64516136, 0.68150848],\n",
       "       [0.01167855, 0.54889166, 0.82917676, 0.10510691],\n",
       "       [0.00905803, 0.35326319, 0.64312016, 0.67935229],\n",
       "       [0.        , 0.29955698, 0.86272411, 0.4073975 ],\n",
       "       [0.        , 0.29310571, 0.68076166, 0.67130664],\n",
       "       [0.01318188, 0.26363759, 0.9622772 , 0.0659094 ],\n",
       "       [0.        , 0.24585101, 0.61886634, 0.74603065],\n",
       "       [0.        , 0.51448794, 0.85358226, 0.08185035],\n",
       "       [0.00925173, 0.29605527, 0.67537607, 0.67537607],\n",
       "       [0.01297717, 0.24656618, 0.96031038, 0.12977167],\n",
       "       [0.        , 0.32104688, 0.67878483, 0.66043929],\n",
       "       [0.        , 0.60423274, 0.79504308, 0.05300287],\n",
       "       [0.00808479, 0.25871312, 0.60635888, 0.75188501],\n",
       "       [0.        , 0.30996521, 0.84133414, 0.44280744],\n",
       "       [0.        , 0.26695417, 0.63401615, 0.72578164],\n",
       "       [0.01221786, 0.30544641, 0.94077493, 0.14661427],\n",
       "       [0.00787548, 0.22051346, 0.60641202, 0.76392163],\n",
       "       [0.01024362, 0.49169386, 0.7887589 , 0.3687704 ],\n",
       "       [0.        , 0.28703304, 0.69067324, 0.6637639 ],\n",
       "       [0.        , 0.38686352, 0.88751044, 0.25032346],\n",
       "       [0.00807371, 0.27450615, 0.62974941, 0.72663393],\n",
       "       [0.0110277 , 0.474191  , 0.86016043, 0.18747086],\n",
       "       [0.00807134, 0.31478238, 0.62956476, 0.71027819],\n",
       "       [0.        , 0.47950885, 0.85003842, 0.21795857],\n",
       "       [0.        , 0.32945225, 0.67624409, 0.6589045 ],\n",
       "       [0.        , 0.50832351, 0.84360072, 0.1730463 ],\n",
       "       [0.        , 0.22243516, 0.64259045, 0.73321219],\n",
       "       [0.0115818 , 0.42852671, 0.90338064, 0.0115818 ],\n",
       "       [0.        , 0.26243194, 0.68232305, 0.68232305],\n",
       "       [0.01175089, 0.39953024, 0.91656938, 0.01175089],\n",
       "       [0.        , 0.27035806, 0.70293095, 0.65787127],\n",
       "       [0.        , 0.54386878, 0.76724345, 0.33991799],\n",
       "       [0.        , 0.24534898, 0.66836445, 0.70220569],\n",
       "       [0.01199693, 0.22794165, 0.97175126, 0.05998465],\n",
       "       [0.        , 0.2437773 , 0.63696648, 0.73133189],\n",
       "       [0.00980486, 0.4902432 , 0.83341344, 0.25492646],\n",
       "       [0.        , 0.30268136, 0.71466432, 0.63058616],\n",
       "       [0.010227  , 0.42953408, 0.87952217, 0.20454004],\n",
       "       [0.        , 0.24938531, 0.64991323, 0.71792741],\n",
       "       [0.        , 0.36753834, 0.88821764, 0.27565375],\n",
       "       [0.00892182, 0.28549815, 0.7761981 , 0.56207448],\n",
       "       [0.01034784, 0.4139137 , 0.9002623 , 0.13452195],\n",
       "       [0.00845789, 0.23682087, 0.73583629, 0.63434163],\n",
       "       [0.01056089, 0.38019214, 0.91879767, 0.10560893],\n",
       "       [0.00759628, 0.27346593, 0.66087599, 0.69885736],\n",
       "       [0.        , 0.50466413, 0.85404698, 0.12616603],\n",
       "       [0.        , 0.23687492, 0.69483309, 0.67904142],\n",
       "       [0.00939309, 0.54479911, 0.82659175, 0.14089632],\n",
       "       [0.00869237, 0.23469389, 0.76492825, 0.59977329],\n",
       "       [0.00900682, 0.53140216, 0.83763391, 0.12609543],\n",
       "       [0.00745874, 0.26105595, 0.69366295, 0.67128673],\n",
       "       [0.        , 0.34058375, 0.89288171, 0.29455892],\n",
       "       [0.        , 0.239655  , 0.7264542 , 0.6440728 ],\n",
       "       [0.00914932, 0.42086865, 0.89663321, 0.13723978],\n",
       "       [0.        , 0.21502729, 0.72664395, 0.65249661],\n",
       "       [0.        , 0.3595523 , 0.86818727, 0.34201317],\n",
       "       [0.00705153, 0.21154581, 0.69810116, 0.68399811],\n",
       "       [0.        , 0.46147104, 0.86312177, 0.20509824],\n",
       "       [0.00800384, 0.2241076 , 0.80838812, 0.54426131],\n",
       "       [0.        , 0.36556179, 0.91836255, 0.1515744 ],\n",
       "       [0.        , 0.26028253, 0.74469723, 0.61455597],\n",
       "       [0.        , 0.30664248, 0.92894632, 0.20743462],\n",
       "       [0.        , 0.24992374, 0.80444204, 0.53889807],\n",
       "       [0.00847488, 0.27967106, 0.95766151, 0.06779904],\n",
       "       [0.        , 0.25336712, 0.7534338 , 0.60674757],\n",
       "       [0.        , 0.36191342, 0.92403426, 0.12320457],\n",
       "       [0.        , 0.23669189, 0.81151504, 0.5342474 ],\n",
       "       [0.        , 0.32920465, 0.92177302, 0.20483845],\n",
       "       [0.00668496, 0.21391885, 0.84230546, 0.49468733],\n",
       "       [0.0070503 , 0.2256096 , 0.9658911 , 0.1269054 ],\n",
       "       [0.00613612, 0.18408373, 0.84064901, 0.50929831]])"
      ]
     },
     "execution_count": 45,
     "metadata": {},
     "output_type": "execute_result"
    }
   ],
   "source": [
    "from sklearn.preprocessing import normalize\n",
    "df_scaled = normalize(df)\n",
    "df_scaled"
   ]
  },
  {
   "cell_type": "code",
   "execution_count": 47,
   "id": "38222b15",
   "metadata": {},
   "outputs": [
    {
     "data": {
      "text/html": [
       "<div>\n",
       "<style scoped>\n",
       "    .dataframe tbody tr th:only-of-type {\n",
       "        vertical-align: middle;\n",
       "    }\n",
       "\n",
       "    .dataframe tbody tr th {\n",
       "        vertical-align: top;\n",
       "    }\n",
       "\n",
       "    .dataframe thead th {\n",
       "        text-align: right;\n",
       "    }\n",
       "</style>\n",
       "<table border=\"1\" class=\"dataframe\">\n",
       "  <thead>\n",
       "    <tr style=\"text-align: right;\">\n",
       "      <th></th>\n",
       "      <th>Genre</th>\n",
       "      <th>Age</th>\n",
       "      <th>Annual Income (k$)</th>\n",
       "      <th>Spending Score (1-100)</th>\n",
       "    </tr>\n",
       "  </thead>\n",
       "  <tbody>\n",
       "    <tr>\n",
       "      <th>0</th>\n",
       "      <td>0.021780</td>\n",
       "      <td>0.413826</td>\n",
       "      <td>0.326705</td>\n",
       "      <td>0.849433</td>\n",
       "    </tr>\n",
       "    <tr>\n",
       "      <th>1</th>\n",
       "      <td>0.011762</td>\n",
       "      <td>0.247008</td>\n",
       "      <td>0.176434</td>\n",
       "      <td>0.952743</td>\n",
       "    </tr>\n",
       "    <tr>\n",
       "      <th>2</th>\n",
       "      <td>0.000000</td>\n",
       "      <td>0.760286</td>\n",
       "      <td>0.608229</td>\n",
       "      <td>0.228086</td>\n",
       "    </tr>\n",
       "    <tr>\n",
       "      <th>3</th>\n",
       "      <td>0.000000</td>\n",
       "      <td>0.280697</td>\n",
       "      <td>0.195267</td>\n",
       "      <td>0.939723</td>\n",
       "    </tr>\n",
       "    <tr>\n",
       "      <th>4</th>\n",
       "      <td>0.000000</td>\n",
       "      <td>0.580683</td>\n",
       "      <td>0.318439</td>\n",
       "      <td>0.749269</td>\n",
       "    </tr>\n",
       "  </tbody>\n",
       "</table>\n",
       "</div>"
      ],
      "text/plain": [
       "      Genre       Age  Annual Income (k$)  Spending Score (1-100)\n",
       "0  0.021780  0.413826            0.326705                0.849433\n",
       "1  0.011762  0.247008            0.176434                0.952743\n",
       "2  0.000000  0.760286            0.608229                0.228086\n",
       "3  0.000000  0.280697            0.195267                0.939723\n",
       "4  0.000000  0.580683            0.318439                0.749269"
      ]
     },
     "execution_count": 47,
     "metadata": {},
     "output_type": "execute_result"
    }
   ],
   "source": [
    "col_names = [\"Genre\",\"Age\",\"Annual Income (k$)\",\"Spending Score (1-100)\"]\n",
    "df = pd.DataFrame(df_scaled,columns=col_names)\n",
    "df.head()"
   ]
  },
  {
   "cell_type": "code",
   "execution_count": 50,
   "id": "426c0b6c",
   "metadata": {},
   "outputs": [
    {
     "data": {
      "image/png": "[encoded data removed]",
      "text/plain": [
       "<Figure size 720x504 with 1 Axes>"
      ]
     },
     "metadata": {
      "needs_background": "light"
     },
     "output_type": "display_data"
    }
   ],
   "source": [
    "import scipy.cluster.hierarchy as sch\n",
    "plt.figure(figsize=(10,7))\n",
    "plt.title(\"Dendrograms\")\n",
    "dend = sch.dendrogram(sch.linkage(df,method=\"ward\"))\n",
    "plt.axhline(y=3,color=\"red\",linestyle=\"--\")\n",
    "plt.axhline(y=4,color=\"red\",linestyle=\"--\")\n",
    "plt.show()"
   ]
  },
  {
   "cell_type": "code",
   "execution_count": 51,
   "id": "8c076277",
   "metadata": {},
   "outputs": [
    {
     "data": {
      "text/plain": [
       "array([0, 0, 1, 0, 0, 0, 1, 0, 1, 0, 1, 0, 1, 0, 1, 0, 1, 0, 1, 0, 1, 0,\n",
       "       1, 0, 1, 0, 1, 0, 1, 0, 1, 0, 1, 0, 1, 0, 1, 0, 1, 0, 1, 0, 1, 0,\n",
       "       1, 0, 1, 0, 1, 1, 1, 0, 0, 1, 1, 1, 1, 1, 0, 1, 1, 0, 1, 1, 1, 0,\n",
       "       1, 1, 0, 1, 1, 1, 1, 1, 1, 0, 1, 1, 0, 1, 1, 1, 1, 1, 0, 1, 1, 0,\n",
       "       0, 1, 1, 0, 1, 1, 1, 0, 1, 0, 1, 0, 0, 1, 1, 0, 1, 0, 1, 1, 1, 1,\n",
       "       1, 0, 1, 0, 0, 0, 1, 1, 1, 1, 0, 1, 1, 0, 2, 0, 1, 0, 2, 0, 2, 0,\n",
       "       2, 0, 2, 0, 2, 0, 2, 0, 2, 0, 2, 0, 2, 0, 1, 0, 2, 0, 2, 0, 2, 0,\n",
       "       2, 0, 2, 0, 2, 0, 1, 0, 2, 0, 2, 0, 2, 0, 2, 0, 2, 0, 2, 0, 2, 0,\n",
       "       2, 0, 2, 0, 2, 0, 2, 0, 2, 0, 2, 0, 2, 0, 2, 0, 2, 0, 2, 0, 2, 0,\n",
       "       2, 0], dtype=int64)"
      ]
     },
     "execution_count": 51,
     "metadata": {},
     "output_type": "execute_result"
    }
   ],
   "source": [
    "from sklearn.cluster import AgglomerativeClustering\n",
    "cluster = AgglomerativeClustering(n_clusters=3)\n",
    "group = cluster.fit_predict(df)\n",
    "group"
   ]
  },
  {
   "cell_type": "code",
   "execution_count": 52,
   "id": "2a5ad667",
   "metadata": {},
   "outputs": [
    {
     "data": {
      "text/html": [
       "<div>\n",
       "<style scoped>\n",
       "    .dataframe tbody tr th:only-of-type {\n",
       "        vertical-align: middle;\n",
       "    }\n",
       "\n",
       "    .dataframe tbody tr th {\n",
       "        vertical-align: top;\n",
       "    }\n",
       "\n",
       "    .dataframe thead th {\n",
       "        text-align: right;\n",
       "    }\n",
       "</style>\n",
       "<table border=\"1\" class=\"dataframe\">\n",
       "  <thead>\n",
       "    <tr style=\"text-align: right;\">\n",
       "      <th></th>\n",
       "      <th>Genre</th>\n",
       "      <th>Age</th>\n",
       "      <th>Annual Income (k$)</th>\n",
       "      <th>Spending Score (1-100)</th>\n",
       "      <th>cluster</th>\n",
       "    </tr>\n",
       "  </thead>\n",
       "  <tbody>\n",
       "    <tr>\n",
       "      <th>0</th>\n",
       "      <td>0.021780</td>\n",
       "      <td>0.413826</td>\n",
       "      <td>0.326705</td>\n",
       "      <td>0.849433</td>\n",
       "      <td>0</td>\n",
       "    </tr>\n",
       "    <tr>\n",
       "      <th>1</th>\n",
       "      <td>0.011762</td>\n",
       "      <td>0.247008</td>\n",
       "      <td>0.176434</td>\n",
       "      <td>0.952743</td>\n",
       "      <td>0</td>\n",
       "    </tr>\n",
       "    <tr>\n",
       "      <th>2</th>\n",
       "      <td>0.000000</td>\n",
       "      <td>0.760286</td>\n",
       "      <td>0.608229</td>\n",
       "      <td>0.228086</td>\n",
       "      <td>1</td>\n",
       "    </tr>\n",
       "    <tr>\n",
       "      <th>3</th>\n",
       "      <td>0.000000</td>\n",
       "      <td>0.280697</td>\n",
       "      <td>0.195267</td>\n",
       "      <td>0.939723</td>\n",
       "      <td>0</td>\n",
       "    </tr>\n",
       "    <tr>\n",
       "      <th>4</th>\n",
       "      <td>0.000000</td>\n",
       "      <td>0.580683</td>\n",
       "      <td>0.318439</td>\n",
       "      <td>0.749269</td>\n",
       "      <td>0</td>\n",
       "    </tr>\n",
       "  </tbody>\n",
       "</table>\n",
       "</div>"
      ],
      "text/plain": [
       "      Genre       Age  Annual Income (k$)  Spending Score (1-100)  cluster\n",
       "0  0.021780  0.413826            0.326705                0.849433        0\n",
       "1  0.011762  0.247008            0.176434                0.952743        0\n",
       "2  0.000000  0.760286            0.608229                0.228086        1\n",
       "3  0.000000  0.280697            0.195267                0.939723        0\n",
       "4  0.000000  0.580683            0.318439                0.749269        0"
      ]
     },
     "execution_count": 52,
     "metadata": {},
     "output_type": "execute_result"
    }
   ],
   "source": [
    "df[\"cluster\"]=group\n",
    "df.head()"
   ]
  },
  {
   "cell_type": "code",
   "execution_count": 57,
   "id": "90ebeaf5",
   "metadata": {},
   "outputs": [
    {
     "data": {
      "image/png": "[encoded data removed]",
      "text/plain": [
       "<Figure size 720x576 with 1 Axes>"
      ]
     },
     "metadata": {
      "needs_background": "light"
     },
     "output_type": "display_data"
    }
   ],
   "source": [
    "x = df[\"Genre\"]\n",
    "y = df[\"Age\"]\n",
    "z = df[\"Annual Income (k$)\"]\n",
    "fig = plt.figure(figsize=(10,8))\n",
    "ax = plt.subplot(111, projection='3d', label=\"bla\")\n",
    "ax.scatter(x, y, z, s=40, c=df[\"cluster\"], marker='o', cmap = \"viridis\" )\n",
    "ax.set_title(\"The Plot Of The Clusters\")\n",
    "plt.show()"
   ]
  },
  {
   "cell_type": "code",
   "execution_count": 58,
   "id": "8c74b874",
   "metadata": {},
   "outputs": [
    {
     "data": {
      "image/png": "[encoded data removed]",
      "text/plain": [
       "<Figure size 432x288 with 1 Axes>"
      ]
     },
     "metadata": {
      "needs_background": "light"
     },
     "output_type": "display_data"
    }
   ],
   "source": [
    "sns.set_palette(\"dark\")\n",
    "pl = sns.countplot(x=df[\"cluster\"])\n",
    "pl.set_title(\"Distribution Of The Clusters\")\n",
    "plt.show()"
   ]
  },
  {
   "cell_type": "code",
   "execution_count": 60,
   "id": "597a525b",
   "metadata": {},
   "outputs": [
    {
     "data": {
      "image/png": "[encoded data removed]",
      "text/plain": [
       "<Figure size 432x288 with 1 Axes>"
      ]
     },
     "metadata": {
      "needs_background": "light"
     },
     "output_type": "display_data"
    }
   ],
   "source": [
    "pl = sns.scatterplot(data = df,x=df[\"Genre\"], y=df[\"Age\"],hue=df[\"cluster\"],palette=\"deep\")\n",
    "pl.set_title(\"Cluster's Profile Based On customers\")\n",
    "plt.legend()\n",
    "plt.show()"
   ]
  },
  {
   "cell_type": "code",
   "execution_count": 61,
   "id": "8d391915",
   "metadata": {},
   "outputs": [],
   "source": [
    "group1 = df[group==0]\n",
    "group1.to_csv(\"g1.csv\")"
   ]
  },
  {
   "cell_type": "code",
   "execution_count": 62,
   "id": "e59a7d9a",
   "metadata": {},
   "outputs": [],
   "source": [
    "group2 = df[group==1]\n",
    "group2.to_csv(\"g2.csv\")"
   ]
  },
  {
   "cell_type": "code",
   "execution_count": 63,
   "id": "a38208ea",
   "metadata": {},
   "outputs": [],
   "source": [
    "group3 = df[group==2]\n",
    "group3.to_csv(\"g3.csv\")"
   ]
  },
  {
   "cell_type": "code",
   "execution_count": null,
   "id": "c39048f4",
   "metadata": {},
   "outputs": [],
   "source": []
  }
 ],
 "metadata": {
  "kernelspec": {
   "display_name": "Python 3",
   "language": "python",
   "name": "python3"
  },
  "language_info": {
   "codemirror_mode": {
    "name": "ipython",
    "version": 3
   },
   "file_extension": ".py",
   "mimetype": "text/x-python",
   "name": "python",
   "nbconvert_exporter": "python",
   "pygments_lexer": "ipython3",
   "version": "3.8.8"
  }
 },
 "nbformat": 4,
 "nbformat_minor": 5
}
