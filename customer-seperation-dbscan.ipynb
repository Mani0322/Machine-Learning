{
 "cells": [
  {
   "cell_type": "code",
   "execution_count": 9,
   "id": "f617db50",
   "metadata": {},
   "outputs": [
    {
     "data": {
      "text/html": [
       "<div>\n",
       "<style scoped>\n",
       "    .dataframe tbody tr th:only-of-type {\n",
       "        vertical-align: middle;\n",
       "    }\n",
       "\n",
       "    .dataframe tbody tr th {\n",
       "        vertical-align: top;\n",
       "    }\n",
       "\n",
       "    .dataframe thead th {\n",
       "        text-align: right;\n",
       "    }\n",
       "</style>\n",
       "<table border=\"1\" class=\"dataframe\">\n",
       "  <thead>\n",
       "    <tr style=\"text-align: right;\">\n",
       "      <th></th>\n",
       "      <th>CustomerID</th>\n",
       "      <th>Genre</th>\n",
       "      <th>Age</th>\n",
       "      <th>Annual Income (k$)</th>\n",
       "      <th>Spending Score (1-100)</th>\n",
       "    </tr>\n",
       "  </thead>\n",
       "  <tbody>\n",
       "    <tr>\n",
       "      <th>0</th>\n",
       "      <td>1</td>\n",
       "      <td>Male</td>\n",
       "      <td>19</td>\n",
       "      <td>15</td>\n",
       "      <td>39</td>\n",
       "    </tr>\n",
       "    <tr>\n",
       "      <th>1</th>\n",
       "      <td>2</td>\n",
       "      <td>Male</td>\n",
       "      <td>21</td>\n",
       "      <td>15</td>\n",
       "      <td>81</td>\n",
       "    </tr>\n",
       "    <tr>\n",
       "      <th>2</th>\n",
       "      <td>3</td>\n",
       "      <td>Female</td>\n",
       "      <td>20</td>\n",
       "      <td>16</td>\n",
       "      <td>6</td>\n",
       "    </tr>\n",
       "    <tr>\n",
       "      <th>3</th>\n",
       "      <td>4</td>\n",
       "      <td>Female</td>\n",
       "      <td>23</td>\n",
       "      <td>16</td>\n",
       "      <td>77</td>\n",
       "    </tr>\n",
       "    <tr>\n",
       "      <th>4</th>\n",
       "      <td>5</td>\n",
       "      <td>Female</td>\n",
       "      <td>31</td>\n",
       "      <td>17</td>\n",
       "      <td>40</td>\n",
       "    </tr>\n",
       "  </tbody>\n",
       "</table>\n",
       "</div>"
      ],
      "text/plain": [
       "   CustomerID   Genre  Age  Annual Income (k$)  Spending Score (1-100)\n",
       "0           1    Male   19                  15                      39\n",
       "1           2    Male   21                  15                      81\n",
       "2           3  Female   20                  16                       6\n",
       "3           4  Female   23                  16                      77\n",
       "4           5  Female   31                  17                      40"
      ]
     },
     "execution_count": 9,
     "metadata": {},
     "output_type": "execute_result"
    }
   ],
   "source": [
    "import numpy as np\n",
    "import pandas as pd\n",
    "import matplotlib.pyplot as plt\n",
    "import seaborn as sns\n",
    "\n",
    "df = pd.read_csv(\"D:\\my files\\Kaggle Data\\Mall_Customers.csv\")\n",
    "df.head()"
   ]
  },
  {
   "cell_type": "code",
   "execution_count": 10,
   "id": "161407a8",
   "metadata": {},
   "outputs": [
    {
     "data": {
      "text/plain": [
       "(200, 5)"
      ]
     },
     "execution_count": 10,
     "metadata": {},
     "output_type": "execute_result"
    }
   ],
   "source": [
    "df.shape"
   ]
  },
  {
   "cell_type": "code",
   "execution_count": 11,
   "id": "1d2640b2",
   "metadata": {},
   "outputs": [
    {
     "data": {
      "text/plain": [
       "Index(['CustomerID', 'Genre', 'Age', 'Annual Income (k$)',\n",
       "       'Spending Score (1-100)'],\n",
       "      dtype='object')"
      ]
     },
     "execution_count": 11,
     "metadata": {},
     "output_type": "execute_result"
    }
   ],
   "source": [
    "df.columns"
   ]
  },
  {
   "cell_type": "code",
   "execution_count": 12,
   "id": "5bf53960",
   "metadata": {},
   "outputs": [
    {
     "name": "stdout",
     "output_type": "stream",
     "text": [
      "<class 'pandas.core.frame.DataFrame'>\n",
      "RangeIndex: 200 entries, 0 to 199\n",
      "Data columns (total 5 columns):\n",
      " #   Column                  Non-Null Count  Dtype \n",
      "---  ------                  --------------  ----- \n",
      " 0   CustomerID              200 non-null    int64 \n",
      " 1   Genre                   200 non-null    object\n",
      " 2   Age                     200 non-null    int64 \n",
      " 3   Annual Income (k$)      200 non-null    int64 \n",
      " 4   Spending Score (1-100)  200 non-null    int64 \n",
      "dtypes: int64(4), object(1)\n",
      "memory usage: 7.9+ KB\n"
     ]
    }
   ],
   "source": [
    "df.info()"
   ]
  },
  {
   "cell_type": "code",
   "execution_count": 13,
   "id": "17f4511f",
   "metadata": {},
   "outputs": [
    {
     "data": {
      "text/html": [
       "<div>\n",
       "<style scoped>\n",
       "    .dataframe tbody tr th:only-of-type {\n",
       "        vertical-align: middle;\n",
       "    }\n",
       "\n",
       "    .dataframe tbody tr th {\n",
       "        vertical-align: top;\n",
       "    }\n",
       "\n",
       "    .dataframe thead th {\n",
       "        text-align: right;\n",
       "    }\n",
       "</style>\n",
       "<table border=\"1\" class=\"dataframe\">\n",
       "  <thead>\n",
       "    <tr style=\"text-align: right;\">\n",
       "      <th></th>\n",
       "      <th>Genre</th>\n",
       "      <th>Age</th>\n",
       "      <th>Annual Income (k$)</th>\n",
       "      <th>Spending Score (1-100)</th>\n",
       "    </tr>\n",
       "  </thead>\n",
       "  <tbody>\n",
       "    <tr>\n",
       "      <th>0</th>\n",
       "      <td>Male</td>\n",
       "      <td>19</td>\n",
       "      <td>15</td>\n",
       "      <td>39</td>\n",
       "    </tr>\n",
       "    <tr>\n",
       "      <th>1</th>\n",
       "      <td>Male</td>\n",
       "      <td>21</td>\n",
       "      <td>15</td>\n",
       "      <td>81</td>\n",
       "    </tr>\n",
       "    <tr>\n",
       "      <th>2</th>\n",
       "      <td>Female</td>\n",
       "      <td>20</td>\n",
       "      <td>16</td>\n",
       "      <td>6</td>\n",
       "    </tr>\n",
       "    <tr>\n",
       "      <th>3</th>\n",
       "      <td>Female</td>\n",
       "      <td>23</td>\n",
       "      <td>16</td>\n",
       "      <td>77</td>\n",
       "    </tr>\n",
       "    <tr>\n",
       "      <th>4</th>\n",
       "      <td>Female</td>\n",
       "      <td>31</td>\n",
       "      <td>17</td>\n",
       "      <td>40</td>\n",
       "    </tr>\n",
       "  </tbody>\n",
       "</table>\n",
       "</div>"
      ],
      "text/plain": [
       "    Genre  Age  Annual Income (k$)  Spending Score (1-100)\n",
       "0    Male   19                  15                      39\n",
       "1    Male   21                  15                      81\n",
       "2  Female   20                  16                       6\n",
       "3  Female   23                  16                      77\n",
       "4  Female   31                  17                      40"
      ]
     },
     "execution_count": 13,
     "metadata": {},
     "output_type": "execute_result"
    }
   ],
   "source": [
    "df.drop(columns=[\"CustomerID\"],inplace=True)\n",
    "df.head()"
   ]
  },
  {
   "cell_type": "code",
   "execution_count": 16,
   "id": "f687b6e4",
   "metadata": {},
   "outputs": [
    {
     "data": {
      "text/html": [
       "<div>\n",
       "<style scoped>\n",
       "    .dataframe tbody tr th:only-of-type {\n",
       "        vertical-align: middle;\n",
       "    }\n",
       "\n",
       "    .dataframe tbody tr th {\n",
       "        vertical-align: top;\n",
       "    }\n",
       "\n",
       "    .dataframe thead th {\n",
       "        text-align: right;\n",
       "    }\n",
       "</style>\n",
       "<table border=\"1\" class=\"dataframe\">\n",
       "  <thead>\n",
       "    <tr style=\"text-align: right;\">\n",
       "      <th></th>\n",
       "      <th>Age</th>\n",
       "      <th>Annual Income (k$)</th>\n",
       "      <th>Spending Score (1-100)</th>\n",
       "    </tr>\n",
       "  </thead>\n",
       "  <tbody>\n",
       "    <tr>\n",
       "      <th>0</th>\n",
       "      <td>19</td>\n",
       "      <td>15</td>\n",
       "      <td>39</td>\n",
       "    </tr>\n",
       "    <tr>\n",
       "      <th>1</th>\n",
       "      <td>21</td>\n",
       "      <td>15</td>\n",
       "      <td>81</td>\n",
       "    </tr>\n",
       "    <tr>\n",
       "      <th>2</th>\n",
       "      <td>20</td>\n",
       "      <td>16</td>\n",
       "      <td>6</td>\n",
       "    </tr>\n",
       "    <tr>\n",
       "      <th>3</th>\n",
       "      <td>23</td>\n",
       "      <td>16</td>\n",
       "      <td>77</td>\n",
       "    </tr>\n",
       "    <tr>\n",
       "      <th>4</th>\n",
       "      <td>31</td>\n",
       "      <td>17</td>\n",
       "      <td>40</td>\n",
       "    </tr>\n",
       "  </tbody>\n",
       "</table>\n",
       "</div>"
      ],
      "text/plain": [
       "   Age  Annual Income (k$)  Spending Score (1-100)\n",
       "0   19                  15                      39\n",
       "1   21                  15                      81\n",
       "2   20                  16                       6\n",
       "3   23                  16                      77\n",
       "4   31                  17                      40"
      ]
     },
     "execution_count": 16,
     "metadata": {},
     "output_type": "execute_result"
    }
   ],
   "source": [
    "df.drop(\"Genre\",inplace=True,axis=1)\n",
    "df.head()"
   ]
  },
  {
   "cell_type": "code",
   "execution_count": 17,
   "id": "69313732",
   "metadata": {},
   "outputs": [
    {
     "data": {
      "text/plain": [
       "array([[0.41392469, 0.32678265, 0.84963489],\n",
       "       [0.24702464, 0.17644617, 0.95280931],\n",
       "       [0.76028592, 0.60822874, 0.22808578],\n",
       "       [0.28069661, 0.19526721, 0.93972343],\n",
       "       [0.5806832 , 0.31843918, 0.74926865],\n",
       "       [0.27185366, 0.21006874, 0.93913083],\n",
       "       [0.87913063, 0.45212432, 0.15070811],\n",
       "       [0.23366214, 0.18286603, 0.95496702],\n",
       "       [0.95768043, 0.28431138, 0.04489127],\n",
       "       [0.37368855, 0.23666942, 0.89685253],\n",
       "       [0.94319433, 0.26747302, 0.19708538],\n",
       "       [0.3279921 , 0.17805285, 0.92774908],\n",
       "       [0.91832409, 0.31666348, 0.23749761],\n",
       "       [0.28882142, 0.24068452, 0.92663539],\n",
       "       [0.84047507, 0.45431085, 0.29530205],\n",
       "       [0.26063351, 0.23693955, 0.93591123],\n",
       "       [0.65094455, 0.39056673, 0.65094455],\n",
       "       [0.27743014, 0.29130164, 0.91551945],\n",
       "       [0.81469084, 0.36034402, 0.45434681],\n",
       "       [0.32841056, 0.21581265, 0.91954957],\n",
       "       [0.63625848, 0.43629153, 0.63625848],\n",
       "       [0.30937372, 0.29699877, 0.90337126],\n",
       "       [0.87464485, 0.47535046, 0.09507009],\n",
       "       [0.37279116, 0.30063803, 0.87786305],\n",
       "       [0.8651358 , 0.44858894, 0.22429447],\n",
       "       [0.31738089, 0.30643672, 0.89742181],\n",
       "       [0.72684717, 0.45226046, 0.5168691 ],\n",
       "       [0.46237116, 0.36989692, 0.80584687],\n",
       "       [0.68579267, 0.49719968, 0.53148932],\n",
       "       [0.24326709, 0.30672808, 0.92018423],\n",
       "       [0.89284133, 0.44642066, 0.05952276],\n",
       "       [0.25713215, 0.36733164, 0.89384032],\n",
       "       [0.84716003, 0.527477  , 0.06393661],\n",
       "       [0.18111732, 0.33204842, 0.92571074],\n",
       "       [0.8070834 , 0.54354596, 0.23059526],\n",
       "       [0.23346307, 0.36687054, 0.90050042],\n",
       "       [0.74142023, 0.60019733, 0.30009866],\n",
       "       [0.34909691, 0.39564316, 0.84946915],\n",
       "       [0.62282246, 0.64012308, 0.44981622],\n",
       "       [0.23258959, 0.43029074, 0.87221096],\n",
       "       [0.78284849, 0.45766527, 0.4215338 ],\n",
       "       [0.23439467, 0.3711249 , 0.89851291],\n",
       "       [0.67075489, 0.54498835, 0.50306617],\n",
       "       [0.39360518, 0.49518071, 0.77451342],\n",
       "       [0.71428268, 0.5685107 , 0.40816153],\n",
       "       [0.30184501, 0.49049814, 0.81749689],\n",
       "       [0.59234888, 0.4738791 , 0.65158377],\n",
       "       [0.40080351, 0.59378298, 0.697695  ],\n",
       "       [0.4472136 , 0.61684634, 0.64768866],\n",
       "       [0.47137727, 0.60822874, 0.63864017],\n",
       "       [0.59122028, 0.50676024, 0.62741744],\n",
       "       [0.41080253, 0.52283958, 0.74691369],\n",
       "       [0.40967175, 0.56825437, 0.71362177],\n",
       "       [0.62434736, 0.45503282, 0.63492952],\n",
       "       [0.62627341, 0.53859513, 0.56364607],\n",
       "       [0.62041137, 0.5676104 , 0.54120992],\n",
       "       [0.60796195, 0.52451619, 0.59604113],\n",
       "       [0.73499977, 0.46869551, 0.48999985],\n",
       "       [0.36586844, 0.62333141, 0.69108483],\n",
       "       [0.63162411, 0.54820206, 0.54820206],\n",
       "       [0.69473989, 0.45654336, 0.55579191],\n",
       "       [0.25614938, 0.62015113, 0.74148505],\n",
       "       [0.69097873, 0.48471642, 0.536282  ],\n",
       "       [0.58209395, 0.50663733, 0.63599154],\n",
       "       [0.66877624, 0.5095438 , 0.54139029],\n",
       "       [0.23029656, 0.61412415, 0.75486093],\n",
       "       [0.52718093, 0.58848104, 0.61300108],\n",
       "       [0.70771926, 0.49956654, 0.49956654],\n",
       "       [0.24235798, 0.61227279, 0.7525853 ],\n",
       "       [0.43004383, 0.64506574, 0.63162687],\n",
       "       [0.68886161, 0.48220312, 0.5412484 ],\n",
       "       [0.58869701, 0.61374794, 0.52606967],\n",
       "       [0.65075309, 0.54229425, 0.53144836],\n",
       "       [0.62432293, 0.52026911, 0.5827014 ],\n",
       "       [0.63599154, 0.58209395, 0.50663733],\n",
       "       [0.32229204, 0.66937577, 0.66937577],\n",
       "       [0.51116565, 0.61339878, 0.60203954],\n",
       "       [0.48435948, 0.6538853 , 0.58123138],\n",
       "       [0.29330914, 0.68863884, 0.6631337 ],\n",
       "       [0.58230267, 0.64172131, 0.49911658],\n",
       "       [0.60879927, 0.5767572 , 0.54471514],\n",
       "       [0.44218942, 0.62837444, 0.640011  ],\n",
       "       [0.70289173, 0.56650976, 0.43012778],\n",
       "       [0.55106618, 0.64690378, 0.52710678],\n",
       "       [0.25837471, 0.66439212, 0.7013028 ],\n",
       "       [0.56041735, 0.63046952, 0.53706663],\n",
       "       [0.5602337 , 0.58060583, 0.5907919 ],\n",
       "       [0.26761693, 0.69337114, 0.66904233],\n",
       "       [0.37731225, 0.6436503 , 0.66584514],\n",
       "       [0.55971708, 0.64927181, 0.51493971],\n",
       "       [0.644557  , 0.55924799, 0.52133287],\n",
       "       [0.24302145, 0.7965703 , 0.55354885],\n",
       "       [0.52670982, 0.65838728, 0.53768295],\n",
       "       [0.48507125, 0.72760688, 0.48507125],\n",
       "       [0.40037553, 0.75070412, 0.52549288],\n",
       "       [0.28934569, 0.72336423, 0.62691567],\n",
       "       [0.52488581, 0.67006699, 0.52488581],\n",
       "       [0.32672714, 0.72606031, 0.60505025],\n",
       "       [0.54387661, 0.69117653, 0.47589204],\n",
       "       [0.24765072, 0.7553347 , 0.60674427],\n",
       "       [0.2956015 , 0.79683882, 0.5269418 ],\n",
       "       [0.5299543 , 0.67055442, 0.51913891],\n",
       "       [0.61641943, 0.57041798, 0.54281711],\n",
       "       [0.29932551, 0.71377621, 0.63318857],\n",
       "       [0.50590796, 0.64012844, 0.57818052],\n",
       "       [0.27000854, 0.79716807, 0.54001708],\n",
       "       [0.63435152, 0.60551736, 0.48056933],\n",
       "       [0.56917836, 0.66404142, 0.48485564],\n",
       "       [0.66545251, 0.61652218, 0.42080085],\n",
       "       [0.64017356, 0.61107476, 0.46558077],\n",
       "       [0.62264421, 0.60348593, 0.49811537],\n",
       "       [0.22320527, 0.74010167, 0.63437286],\n",
       "       [0.44463456, 0.7488582 , 0.4914382 ],\n",
       "       [0.23435368, 0.78940188, 0.5673826 ],\n",
       "       [0.21743635, 0.7851868 , 0.57983025],\n",
       "       [0.22571116, 0.77216975, 0.59397673],\n",
       "       [0.62864985, 0.64860699, 0.42907847],\n",
       "       [0.48739935, 0.64655016, 0.58686861],\n",
       "       [0.53941834, 0.70864762, 0.4548037 ],\n",
       "       [0.49415414, 0.66216655, 0.56333572],\n",
       "       [0.29540411, 0.73303982, 0.61269   ],\n",
       "       [0.43782405, 0.77195293, 0.46086742],\n",
       "       [0.4056161 , 0.69968777, 0.58814335],\n",
       "       [0.32317606, 0.57177303, 0.75407747],\n",
       "       [0.29046517, 0.88402444, 0.36623869],\n",
       "       [0.28549913, 0.64467546, 0.709143  ],\n",
       "       [0.477336  , 0.78815945, 0.38852931],\n",
       "       [0.31958098, 0.56725625, 0.75900484],\n",
       "       [0.63462877, 0.76370581, 0.11832062],\n",
       "       [0.34531188, 0.64518799, 0.68153661],\n",
       "       [0.54892909, 0.82923331, 0.10511408],\n",
       "       [0.35327768, 0.64314655, 0.67938016],\n",
       "       [0.29955698, 0.86272411, 0.4073975 ],\n",
       "       [0.29310571, 0.68076166, 0.67130664],\n",
       "       [0.2636605 , 0.96236082, 0.06591512],\n",
       "       [0.24585101, 0.61886634, 0.74603065],\n",
       "       [0.51448794, 0.85358226, 0.08185035],\n",
       "       [0.29606794, 0.67540498, 0.67540498],\n",
       "       [0.24658694, 0.96039125, 0.1297826 ],\n",
       "       [0.32104688, 0.67878483, 0.66043929],\n",
       "       [0.60423274, 0.79504308, 0.05300287],\n",
       "       [0.25872158, 0.6063787 , 0.75190958],\n",
       "       [0.30996521, 0.84133414, 0.44280744],\n",
       "       [0.26695417, 0.63401615, 0.72578164],\n",
       "       [0.30546921, 0.94084516, 0.14662522],\n",
       "       [0.2205203 , 0.60643082, 0.76394532],\n",
       "       [0.49171966, 0.78880029, 0.36878975],\n",
       "       [0.28703304, 0.69067324, 0.6637639 ],\n",
       "       [0.38686352, 0.88751044, 0.25032346],\n",
       "       [0.2745151 , 0.62976993, 0.72665762],\n",
       "       [0.47421984, 0.86021273, 0.18748226],\n",
       "       [0.31479264, 0.62958527, 0.71030133],\n",
       "       [0.47950885, 0.85003842, 0.21795857],\n",
       "       [0.32945225, 0.67624409, 0.6589045 ],\n",
       "       [0.50832351, 0.84360072, 0.1730463 ],\n",
       "       [0.22243516, 0.64259045, 0.73321219],\n",
       "       [0.42855546, 0.90344123, 0.01158258],\n",
       "       [0.26243194, 0.68232305, 0.68232305],\n",
       "       [0.39955783, 0.91663266, 0.0117517 ],\n",
       "       [0.27035806, 0.70293095, 0.65787127],\n",
       "       [0.54386878, 0.76724345, 0.33991799],\n",
       "       [0.24534898, 0.66836445, 0.70220569],\n",
       "       [0.22795806, 0.9718212 , 0.05998896],\n",
       "       [0.2437773 , 0.63696648, 0.73133189],\n",
       "       [0.49026677, 0.83345351, 0.25493872],\n",
       "       [0.30268136, 0.71466432, 0.63058616],\n",
       "       [0.42955655, 0.87956817, 0.20455074],\n",
       "       [0.24938531, 0.64991323, 0.71792741],\n",
       "       [0.36753834, 0.88821764, 0.27565375],\n",
       "       [0.28550951, 0.77622899, 0.56209685],\n",
       "       [0.41393586, 0.90031051, 0.13452916],\n",
       "       [0.23682934, 0.73586261, 0.63436432],\n",
       "       [0.38021334, 0.91884891, 0.10561482],\n",
       "       [0.27347382, 0.66089505, 0.69887753],\n",
       "       [0.50466413, 0.85404698, 0.12616603],\n",
       "       [0.23687492, 0.69483309, 0.67904142],\n",
       "       [0.54482315, 0.82662822, 0.14090254],\n",
       "       [0.23470276, 0.76495715, 0.59979595],\n",
       "       [0.53142371, 0.83766789, 0.12610054],\n",
       "       [0.26106321, 0.69368225, 0.6713054 ],\n",
       "       [0.34058375, 0.89288171, 0.29455892],\n",
       "       [0.239655  , 0.7264542 , 0.6440728 ],\n",
       "       [0.42088627, 0.89667074, 0.13724552],\n",
       "       [0.21502729, 0.72664395, 0.65249661],\n",
       "       [0.3595523 , 0.86818727, 0.34201317],\n",
       "       [0.21155107, 0.69811852, 0.68401512],\n",
       "       [0.46147104, 0.86312177, 0.20509824],\n",
       "       [0.22411478, 0.80841401, 0.54427874],\n",
       "       [0.36556179, 0.91836255, 0.1515744 ],\n",
       "       [0.26028253, 0.74469723, 0.61455597],\n",
       "       [0.30664248, 0.92894632, 0.20743462],\n",
       "       [0.24992374, 0.80444204, 0.53889807],\n",
       "       [0.2796811 , 0.9576959 , 0.06780148],\n",
       "       [0.25336712, 0.7534338 , 0.60674757],\n",
       "       [0.36191342, 0.92403426, 0.12320457],\n",
       "       [0.23669189, 0.81151504, 0.5342474 ],\n",
       "       [0.32920465, 0.92177302, 0.20483845],\n",
       "       [0.21392363, 0.84232428, 0.49469839],\n",
       "       [0.22561521, 0.96591511, 0.12690855],\n",
       "       [0.18408719, 0.84066484, 0.5093079 ]])"
      ]
     },
     "execution_count": 17,
     "metadata": {},
     "output_type": "execute_result"
    }
   ],
   "source": [
    "from sklearn.preprocessing import normalize\n",
    "df1 = normalize(df)\n",
    "df1"
   ]
  },
  {
   "cell_type": "code",
   "execution_count": 19,
   "id": "d98e2797",
   "metadata": {},
   "outputs": [
    {
     "data": {
      "text/html": [
       "<div>\n",
       "<style scoped>\n",
       "    .dataframe tbody tr th:only-of-type {\n",
       "        vertical-align: middle;\n",
       "    }\n",
       "\n",
       "    .dataframe tbody tr th {\n",
       "        vertical-align: top;\n",
       "    }\n",
       "\n",
       "    .dataframe thead th {\n",
       "        text-align: right;\n",
       "    }\n",
       "</style>\n",
       "<table border=\"1\" class=\"dataframe\">\n",
       "  <thead>\n",
       "    <tr style=\"text-align: right;\">\n",
       "      <th></th>\n",
       "      <th>Age</th>\n",
       "      <th>Annual Income(k$)</th>\n",
       "      <th>Spending Score(1-100)</th>\n",
       "    </tr>\n",
       "  </thead>\n",
       "  <tbody>\n",
       "    <tr>\n",
       "      <th>0</th>\n",
       "      <td>0.413925</td>\n",
       "      <td>0.326783</td>\n",
       "      <td>0.849635</td>\n",
       "    </tr>\n",
       "    <tr>\n",
       "      <th>1</th>\n",
       "      <td>0.247025</td>\n",
       "      <td>0.176446</td>\n",
       "      <td>0.952809</td>\n",
       "    </tr>\n",
       "    <tr>\n",
       "      <th>2</th>\n",
       "      <td>0.760286</td>\n",
       "      <td>0.608229</td>\n",
       "      <td>0.228086</td>\n",
       "    </tr>\n",
       "    <tr>\n",
       "      <th>3</th>\n",
       "      <td>0.280697</td>\n",
       "      <td>0.195267</td>\n",
       "      <td>0.939723</td>\n",
       "    </tr>\n",
       "    <tr>\n",
       "      <th>4</th>\n",
       "      <td>0.580683</td>\n",
       "      <td>0.318439</td>\n",
       "      <td>0.749269</td>\n",
       "    </tr>\n",
       "    <tr>\n",
       "      <th>...</th>\n",
       "      <td>...</td>\n",
       "      <td>...</td>\n",
       "      <td>...</td>\n",
       "    </tr>\n",
       "    <tr>\n",
       "      <th>195</th>\n",
       "      <td>0.236692</td>\n",
       "      <td>0.811515</td>\n",
       "      <td>0.534247</td>\n",
       "    </tr>\n",
       "    <tr>\n",
       "      <th>196</th>\n",
       "      <td>0.329205</td>\n",
       "      <td>0.921773</td>\n",
       "      <td>0.204838</td>\n",
       "    </tr>\n",
       "    <tr>\n",
       "      <th>197</th>\n",
       "      <td>0.213924</td>\n",
       "      <td>0.842324</td>\n",
       "      <td>0.494698</td>\n",
       "    </tr>\n",
       "    <tr>\n",
       "      <th>198</th>\n",
       "      <td>0.225615</td>\n",
       "      <td>0.965915</td>\n",
       "      <td>0.126909</td>\n",
       "    </tr>\n",
       "    <tr>\n",
       "      <th>199</th>\n",
       "      <td>0.184087</td>\n",
       "      <td>0.840665</td>\n",
       "      <td>0.509308</td>\n",
       "    </tr>\n",
       "  </tbody>\n",
       "</table>\n",
       "<p>200 rows × 3 columns</p>\n",
       "</div>"
      ],
      "text/plain": [
       "          Age  Annual Income(k$)  Spending Score(1-100)\n",
       "0    0.413925           0.326783               0.849635\n",
       "1    0.247025           0.176446               0.952809\n",
       "2    0.760286           0.608229               0.228086\n",
       "3    0.280697           0.195267               0.939723\n",
       "4    0.580683           0.318439               0.749269\n",
       "..        ...                ...                    ...\n",
       "195  0.236692           0.811515               0.534247\n",
       "196  0.329205           0.921773               0.204838\n",
       "197  0.213924           0.842324               0.494698\n",
       "198  0.225615           0.965915               0.126909\n",
       "199  0.184087           0.840665               0.509308\n",
       "\n",
       "[200 rows x 3 columns]"
      ]
     },
     "execution_count": 19,
     "metadata": {},
     "output_type": "execute_result"
    }
   ],
   "source": [
    "col = [\"Age\",\"Annual Income(k$)\",\"Spending Score(1-100)\"]\n",
    "df = pd.DataFrame(df1,columns=col)\n",
    "df"
   ]
  },
  {
   "cell_type": "code",
   "execution_count": 27,
   "id": "540f07f8",
   "metadata": {},
   "outputs": [
    {
     "data": {
      "text/plain": [
       "array([-1,  0, -1,  0, -1,  0, -1,  0, -1, -1, -1, -1, -1,  0, -1,  0, -1,\n",
       "        1, -1,  0, -1,  1, -1, -1, -1,  1, -1, -1,  2,  1, -1, -1, -1, -1,\n",
       "       -1, -1, -1, -1,  2, -1, -1, -1,  2, -1, -1, -1,  2,  4,  3,  3,  2,\n",
       "       -1, -1,  2,  2,  2,  2,  2,  4,  2,  2,  4,  2,  2,  2,  4,  2,  2,\n",
       "        4,  3,  2,  2,  2,  2,  2,  4,  2,  2,  4,  2,  2,  3, -1,  2,  4,\n",
       "        2, -1,  4,  4,  2,  2,  4,  2, -1, -1,  4,  2,  4,  2,  4,  4,  2,\n",
       "        2,  4,  2,  4,  2,  2, -1,  2,  2,  4, -1,  4,  4,  4,  2,  2,  2,\n",
       "        2,  4, -1, -1, -1, -1,  4, -1, -1, -1,  4,  5,  4, -1,  4, -1,  4,\n",
       "        5,  4, -1,  4, -1,  4, -1,  4, -1,  4, -1,  4, -1,  4,  6,  4,  6,\n",
       "        4,  5,  4, -1,  4, -1,  4, -1,  4, -1,  4,  6,  4,  6,  4, -1,  4,\n",
       "        7,  4,  7,  4,  5,  4,  5,  4,  5,  4, -1,  4, -1,  4, -1,  4,  6,\n",
       "        4,  7,  4, -1,  4, -1,  4,  7,  4, -1, -1, -1, -1], dtype=int64)"
      ]
     },
     "execution_count": 27,
     "metadata": {},
     "output_type": "execute_result"
    }
   ],
   "source": [
    "from sklearn.cluster import DBSCAN\n",
    "dbscan = DBSCAN(eps=0.05,min_samples=4)\n",
    "model = dbscan.fit(df)\n",
    "labels = dbscan.labels_\n",
    "labels\n"
   ]
  },
  {
   "cell_type": "code",
   "execution_count": 28,
   "id": "4a18330d",
   "metadata": {},
   "outputs": [
    {
     "data": {
      "text/html": [
       "<div>\n",
       "<style scoped>\n",
       "    .dataframe tbody tr th:only-of-type {\n",
       "        vertical-align: middle;\n",
       "    }\n",
       "\n",
       "    .dataframe tbody tr th {\n",
       "        vertical-align: top;\n",
       "    }\n",
       "\n",
       "    .dataframe thead th {\n",
       "        text-align: right;\n",
       "    }\n",
       "</style>\n",
       "<table border=\"1\" class=\"dataframe\">\n",
       "  <thead>\n",
       "    <tr style=\"text-align: right;\">\n",
       "      <th></th>\n",
       "      <th>Age</th>\n",
       "      <th>Annual Income(k$)</th>\n",
       "      <th>Spending Score(1-100)</th>\n",
       "      <th>Clusters</th>\n",
       "    </tr>\n",
       "  </thead>\n",
       "  <tbody>\n",
       "    <tr>\n",
       "      <th>0</th>\n",
       "      <td>0.413925</td>\n",
       "      <td>0.326783</td>\n",
       "      <td>0.849635</td>\n",
       "      <td>-1</td>\n",
       "    </tr>\n",
       "    <tr>\n",
       "      <th>1</th>\n",
       "      <td>0.247025</td>\n",
       "      <td>0.176446</td>\n",
       "      <td>0.952809</td>\n",
       "      <td>0</td>\n",
       "    </tr>\n",
       "    <tr>\n",
       "      <th>2</th>\n",
       "      <td>0.760286</td>\n",
       "      <td>0.608229</td>\n",
       "      <td>0.228086</td>\n",
       "      <td>-1</td>\n",
       "    </tr>\n",
       "    <tr>\n",
       "      <th>3</th>\n",
       "      <td>0.280697</td>\n",
       "      <td>0.195267</td>\n",
       "      <td>0.939723</td>\n",
       "      <td>0</td>\n",
       "    </tr>\n",
       "    <tr>\n",
       "      <th>4</th>\n",
       "      <td>0.580683</td>\n",
       "      <td>0.318439</td>\n",
       "      <td>0.749269</td>\n",
       "      <td>-1</td>\n",
       "    </tr>\n",
       "  </tbody>\n",
       "</table>\n",
       "</div>"
      ],
      "text/plain": [
       "        Age  Annual Income(k$)  Spending Score(1-100)  Clusters\n",
       "0  0.413925           0.326783               0.849635        -1\n",
       "1  0.247025           0.176446               0.952809         0\n",
       "2  0.760286           0.608229               0.228086        -1\n",
       "3  0.280697           0.195267               0.939723         0\n",
       "4  0.580683           0.318439               0.749269        -1"
      ]
     },
     "execution_count": 28,
     "metadata": {},
     "output_type": "execute_result"
    }
   ],
   "source": [
    "df[\"Clusters\"]=labels\n",
    "df.head()"
   ]
  },
  {
   "cell_type": "code",
   "execution_count": 30,
   "id": "137955e4",
   "metadata": {},
   "outputs": [],
   "source": [
    "x = df[\"Age\"]\n",
    "y = df[\"Annual Income(k$)\"]\n",
    "z = df[\"Spending Score(1-100)\"]"
   ]
  },
  {
   "cell_type": "code",
   "execution_count": 31,
   "id": "f124d13a",
   "metadata": {},
   "outputs": [
    {
     "data": {
      "image/png": "[encoded data removed]",
      "text/plain": [
       "<Figure size 720x576 with 1 Axes>"
      ]
     },
     "metadata": {
      "needs_background": "light"
     },
     "output_type": "display_data"
    }
   ],
   "source": [
    "fig = plt.figure(figsize=(10,8))\n",
    "ax = plt.subplot(111, projection='3d', label=\"bla\")\n",
    "ax.scatter(x, y, z, s=40, c=df[\"Clusters\"], marker='o', cmap = \"viridis\" )\n",
    "ax.set_title(\"The Plot Of The Clusters\")\n",
    "plt.show()"
   ]
  },
  {
   "cell_type": "code",
   "execution_count": 32,
   "id": "e9247003",
   "metadata": {},
   "outputs": [
    {
     "data": {
      "image/png": "[encoded data removed]",
      "text/plain": [
       "<Figure size 432x288 with 1 Axes>"
      ]
     },
     "metadata": {
      "needs_background": "light"
     },
     "output_type": "display_data"
    }
   ],
   "source": [
    "sns.set_palette(\"dark\")\n",
    "pl = sns.countplot(x=df[\"Clusters\"])\n",
    "pl.set_title(\"Distribution Of The Clusters\")\n",
    "plt.show()"
   ]
  },
  {
   "cell_type": "code",
   "execution_count": 33,
   "id": "862e63e3",
   "metadata": {},
   "outputs": [
    {
     "data": {
      "image/png": "[encoded data removed]",
      "text/plain": [
       "<Figure size 432x288 with 1 Axes>"
      ]
     },
     "metadata": {
      "needs_background": "light"
     },
     "output_type": "display_data"
    }
   ],
   "source": [
    "pl = sns.scatterplot(data = df,x=df[\"Age\"], y=df[\"Annual Income(k$)\"],hue=df[\"Clusters\"],palette=\"deep\")\n",
    "pl.set_title(\"Cluster's Profile Based On products\")\n",
    "plt.legend()\n",
    "plt.show()"
   ]
  },
  {
   "cell_type": "code",
   "execution_count": 34,
   "id": "11fb8da4",
   "metadata": {},
   "outputs": [
    {
     "data": {
      "text/plain": [
       "0.7772890384785015"
      ]
     },
     "execution_count": 34,
     "metadata": {},
     "output_type": "execute_result"
    }
   ],
   "source": [
    "from sklearn.metrics import silhouette_score\n",
    "s_score = silhouette_score(df,labels)\n",
    "s_score"
   ]
  }
 ],
 "metadata": {
  "kernelspec": {
   "display_name": "Python 3",
   "language": "python",
   "name": "python3"
  },
  "language_info": {
   "codemirror_mode": {
    "name": "ipython",
    "version": 3
   },
   "file_extension": ".py",
   "mimetype": "text/x-python",
   "name": "python",
   "nbconvert_exporter": "python",
   "pygments_lexer": "ipython3",
   "version": "3.8.8"
  }
 },
 "nbformat": 4,
 "nbformat_minor": 5
}
